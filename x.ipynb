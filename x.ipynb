{
 "cells": [
  {
   "cell_type": "code",
   "execution_count": 18,
   "metadata": {},
   "outputs": [
    {
     "ename": "TypeError",
     "evalue": "only size-1 arrays can be converted to Python scalars",
     "output_type": "error",
     "traceback": [
      "\u001b[1;31m---------------------------------------------------------------------------\u001b[0m",
      "\u001b[1;31mTypeError\u001b[0m                                 Traceback (most recent call last)",
      "\u001b[1;32mc:\\Users\\patit\\OneDrive\\Desktop\\PythonProjects\\PCMS_Python\\x.ipynb Cell 1'\u001b[0m in \u001b[0;36m<cell line: 12>\u001b[1;34m()\u001b[0m\n\u001b[0;32m      <a href='vscode-notebook-cell:/c%3A/Users/patit/OneDrive/Desktop/PythonProjects/PCMS_Python/x.ipynb#ch0000001?line=7'>8</a>\u001b[0m   \u001b[39mreturn\u001b[39;00m math\u001b[39m.\u001b[39msin(x\u001b[39m*\u001b[39m\u001b[39m*\u001b[39m(\u001b[39m3.2\u001b[39m))\u001b[39m*\u001b[39m\u001b[39m*\u001b[39m\u001b[39m2\u001b[39m\u001b[39m/\u001b[39msqrt(x \u001b[39m+\u001b[39m \u001b[39m10\u001b[39m)\n\u001b[0;32m     <a href='vscode-notebook-cell:/c%3A/Users/patit/OneDrive/Desktop/PythonProjects/PCMS_Python/x.ipynb#ch0000001?line=10'>11</a>\u001b[0m x \u001b[39m=\u001b[39m np\u001b[39m.\u001b[39mlinspace(\u001b[39m0\u001b[39m,\u001b[39m15\u001b[39m,\u001b[39m1000\u001b[39m)\n\u001b[1;32m---> <a href='vscode-notebook-cell:/c%3A/Users/patit/OneDrive/Desktop/PythonProjects/PCMS_Python/x.ipynb#ch0000001?line=11'>12</a>\u001b[0m y \u001b[39m=\u001b[39m f(x)\n\u001b[0;32m     <a href='vscode-notebook-cell:/c%3A/Users/patit/OneDrive/Desktop/PythonProjects/PCMS_Python/x.ipynb#ch0000001?line=13'>14</a>\u001b[0m plot(x,y,\u001b[39m\"\u001b[39m\u001b[39mr-\u001b[39m\u001b[39m\"\u001b[39m)\n\u001b[0;32m     <a href='vscode-notebook-cell:/c%3A/Users/patit/OneDrive/Desktop/PythonProjects/PCMS_Python/x.ipynb#ch0000001?line=14'>15</a>\u001b[0m show()\n",
      "\u001b[1;32mc:\\Users\\patit\\OneDrive\\Desktop\\PythonProjects\\PCMS_Python\\x.ipynb Cell 1'\u001b[0m in \u001b[0;36mf\u001b[1;34m(x)\u001b[0m\n\u001b[0;32m      <a href='vscode-notebook-cell:/c%3A/Users/patit/OneDrive/Desktop/PythonProjects/PCMS_Python/x.ipynb#ch0000001?line=6'>7</a>\u001b[0m \u001b[39mdef\u001b[39;00m \u001b[39mf\u001b[39m(x):\n\u001b[1;32m----> <a href='vscode-notebook-cell:/c%3A/Users/patit/OneDrive/Desktop/PythonProjects/PCMS_Python/x.ipynb#ch0000001?line=7'>8</a>\u001b[0m   \u001b[39mreturn\u001b[39;00m math\u001b[39m.\u001b[39;49msin(x\u001b[39m*\u001b[39;49m\u001b[39m*\u001b[39;49m(\u001b[39m3.2\u001b[39;49m))\u001b[39m*\u001b[39m\u001b[39m*\u001b[39m\u001b[39m2\u001b[39m\u001b[39m/\u001b[39msqrt(x \u001b[39m+\u001b[39m \u001b[39m10\u001b[39m)\n",
      "\u001b[1;31mTypeError\u001b[0m: only size-1 arrays can be converted to Python scalars"
     ]
    }
   ],
   "source": [
    "from math import *\n",
    "from matplotlib.pylab import *\n",
    "import numpy as np\n",
    "\n",
    "\n",
    "\n",
    "def f(x):\n",
    "  return sin(x**(3.2))**2/sqrt(x + 10)\n",
    "\n",
    "\n",
    "x = np.linspace(0,15,1000)\n",
    "y = f(x)\n",
    "\n",
    "plot(x,y,\"r-\")\n",
    "show()\n",
    "\n",
    "\n",
    "#firsr derivative\n",
    "#np.gradient dEdV = np.gradient(y,x[1]-x[0])\n",
    "# print dEdV\n"
   ]
  }
 ],
 "metadata": {
  "interpreter": {
   "hash": "93d3515675172f13275ddc9f103925c3c6d3e81fc6931af8e4b559f63ddcf313"
  },
  "kernelspec": {
   "display_name": "Python 3.10.1 64-bit",
   "language": "python",
   "name": "python3"
  },
  "language_info": {
   "codemirror_mode": {
    "name": "ipython",
    "version": 3
   },
   "file_extension": ".py",
   "mimetype": "text/x-python",
   "name": "python",
   "nbconvert_exporter": "python",
   "pygments_lexer": "ipython3",
   "version": "3.10.1"
  },
  "orig_nbformat": 4
 },
 "nbformat": 4,
 "nbformat_minor": 2
}
