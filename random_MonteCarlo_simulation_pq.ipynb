{
 "cells": [
  {
   "cell_type": "code",
   "execution_count": 31,
   "metadata": {},
   "outputs": [],
   "source": [
    "import numpy as np\n",
    "import matplotlib.pyplot as plt\n",
    "import random as rd"
   ]
  },
  {
   "cell_type": "code",
   "execution_count": 32,
   "metadata": {},
   "outputs": [],
   "source": [
    "\n",
    "# The Monte carlo simulation has to do with the influence on the average energy of a 2D system.\n",
    "# So generally with the monte-carlo simulation, particles are moving from one microstate to a new microstate\n",
    "# (By placing one atom in a grid positon and another in a second grid position)\n",
    "# And then we compute an acceptance probability of the new microstate[ This probability is usually between 0 and 1]\n",
    "# This acceptance probability depends on the energy of the old state and the energy of the new state and on temperature."
   ]
  },
  {
   "cell_type": "code",
   "execution_count": 33,
   "metadata": {},
   "outputs": [
    {
     "data": {
      "image/png": "[encoded data removed]",
      "text/plain": [
       "<Figure size 432x288 with 1 Axes>"
      ]
     },
     "metadata": {
      "needs_background": "light"
     },
     "output_type": "display_data"
    }
   ],
   "source": [
    "# function to compute FS energy for Ci of atom i\n",
    "def Ei_FS(Ci):\n",
    "  Ab = 1.2\n",
    "  Ar = 0.2\n",
    "  Ei = -Ab*np.sqrt(Ci) + Ar*Ci  # Ci = coordination of atom i(no of NN), Ab and Ar = bonding and repulsive parts respectively.\n",
    "  return Ei\n",
    "\n",
    "# plot Ei_FS\n",
    "x = np.linspace(0,4.5,100)  \n",
    "y = Ei_FS(x)\n",
    "plt.plot(x,y)\n",
    "plt.show()"
   ]
  },
  {
   "cell_type": "code",
   "execution_count": 34,
   "metadata": {},
   "outputs": [],
   "source": [
    "# we initialize positions by defining an occupation matrix i.e a grid(nxn system e.g 8x8 or 10x10 system), occ(x,y) = [...,...](no atom = 0, atom = 1)\n",
    "# Then we check each grid by looping, if we find an atom we compute the total energy of the individual atomic positions in the grid.\n",
    "\n",
    "# function to compute energy of a grid of atoms\n",
    "# Here we are using a 2x2 grid array.\n",
    "def E_grid(occ):\n",
    "  dimx, dimy = occ.shape      # dimx = dimension x, dimy = dimension y\n",
    "  Etot = 0\n",
    "  # set counter for number of atoms to zero\n",
    "  N = 0                       \n",
    "  for x in range(dimx-1):\n",
    "    for y in range(dimy-1):\n",
    "      if occ[x,y] == 1:  \n",
    "        #found an atom\n",
    "        xm = 0; xp = 0; ym = 0; yp = 0    # These are helper variables(xm = x-, xp = x+, ym = y-, yp = y+)\n",
    "        N += 1  # since atom found increase N by 1\n",
    "        # check for neighbours\n",
    "        if x > 0:\n",
    "          xm = 1 if occ[x-1,y]==1 else 0\n",
    "        if x < dimx-2:\n",
    "          xp = 1 if occ[x+1,y]==1 else 0\n",
    "        if y>0:\n",
    "          ym = 1 if occ[x,y-1]==1 else 0\n",
    "        if y < dimy-2:\n",
    "          yp = 1 if occ[x,y+1]==1 else 0\n",
    "        # sum up neighbours\n",
    "        Cxy = xm + xp + ym + yp\n",
    "        # compute contribution to grid energy\n",
    "        Ei = Ei_FS(Cxy)\n",
    "        Etot = Etot + Ei\n",
    "  return Etot/N        # This is the energy per atom.\n"
   ]
  },
  {
   "cell_type": "code",
   "execution_count": 35,
   "metadata": {},
   "outputs": [
    {
     "name": "stdout",
     "output_type": "stream",
     "text": [
      "[[0. 0. 0. 0. 0. 0. 0. 0. 0. 0.]\n",
      " [0. 0. 1. 1. 0. 0. 1. 1. 0. 0.]\n",
      " [0. 0. 0. 0. 0. 0. 0. 0. 0. 0.]\n",
      " [0. 0. 1. 0. 1. 0. 1. 0. 1. 0.]\n",
      " [0. 0. 0. 0. 0. 0. 0. 0. 0. 0.]]\n",
      "-0.5\n",
      "[[0. 0. 0. 0. 0. 0. 0. 0. 0. 0.]\n",
      " [0. 0. 1. 0. 0. 1. 1. 1. 0. 0.]\n",
      " [0. 0. 1. 1. 0. 0. 1. 1. 0. 0.]\n",
      " [0. 0. 0. 0. 0. 0. 0. 0. 0. 0.]\n",
      " [0. 0. 0. 0. 0. 0. 0. 0. 0. 0.]]\n",
      "-1.2083357585591885\n",
      "[[0. 0. 0. 0. 0. 0. 0. 0. 0. 0.]\n",
      " [0. 0. 0. 0. 0. 0. 0. 0. 0. 0.]\n",
      " [0. 0. 1. 1. 1. 1. 0. 0. 0. 0.]\n",
      " [0. 0. 1. 0. 0. 1. 1. 1. 0. 0.]\n",
      " [0. 0. 0. 0. 0. 0. 0. 0. 0. 0.]]\n",
      "-1.2227922061357854\n"
     ]
    }
   ],
   "source": [
    "# define grid\n",
    "gridx = 5                 # This is an 8x8 grid.\n",
    "gridy = 10\n",
    "\n",
    "# setup microstate 1\n",
    "occA = np.zeros((gridx,gridy))       # This is the way to setup a 2D array with the double brackets full of zeros. gridx = external array, gridy = internal array\n",
    "occA[1,2:4] = 1\n",
    "occA[1,6:8] = 1\n",
    "occA[3,2] = 1    \n",
    "occA[3,4] = 1 \n",
    "occA[3,6] = 1\n",
    "occA[3,8] = 1                 # occupying positions 2 to 5 with 1, gridx = gridx number of arrays and gridy = gridy number of elements in each gridy array.\n",
    "print (occA)\n",
    "EA = E_grid(occA)                    # Energy of grid A\n",
    "print (EA)\n",
    "\n",
    "# setup microstate 2 (shifted)\n",
    "occB = np.zeros((gridx,gridy))\n",
    "occB[1,2] = 1\n",
    "occB[1,5:8] = 1 \n",
    "occB[2,2:4] = 1\n",
    "occB[2,6:8] = 1\n",
    "print (occB)\n",
    "EB = E_grid(occB)\n",
    "print (EB)\n",
    "\n",
    "# setup microstate 3 (split)\n",
    "occC = np.zeros((gridx,gridy))\n",
    "occC[2,2:6] = 1\n",
    "occC[3,2] = 1\n",
    "occC[3,5:8] = 1\n",
    "print (occC)\n",
    "EC = E_grid(occC)\n",
    "print (EC)"
   ]
  },
  {
   "cell_type": "code",
   "execution_count": 36,
   "metadata": {},
   "outputs": [
    {
     "name": "stdout",
     "output_type": "stream",
     "text": [
      "[[0. 1. 0. 1. 1. 0. 1. 0. 0. 0.]\n",
      " [0. 0. 1. 1. 0. 0. 0. 1. 1. 1.]\n",
      " [0. 0. 0. 0. 0. 1. 0. 0. 0. 1.]\n",
      " [0. 0. 1. 0. 0. 0. 0. 0. 1. 0.]\n",
      " [0. 0. 0. 0. 0. 1. 0. 0. 1. 0.]]\n",
      "-0.5994647772450389\n",
      "EB->EA -1.2083357585591885 -0.5 4.953903573745442e-13\n",
      "EA->EB -0.5 -1.2083357585591885 1.0\n",
      "EC->EA -1.2227922061357854 -0.5 2.778518754252942e-13\n",
      "EA->EC -0.5 -1.2227922061357854 1.0\n"
     ]
    }
   ],
   "source": [
    "# generate random occupation\n",
    "def randocc(dimx,dimy,N):\n",
    "  occ = np.zeros((dimx,dimy))\n",
    "  count = 0\n",
    "  while count <N:\n",
    "    x = rd.randint(0,dimx-1)\n",
    "    y = rd.randint(0,dimy-1)\n",
    "    if (occ[x,y] == 0):\n",
    "      occ[x,y] = 1\n",
    "      count += 1\n",
    "  return occ\n",
    "\n",
    "# setup microstate 4\n",
    "occC = randocc(gridx,gridy,15) # 15 here is gotten from the 5x10 grid which is 5+10\n",
    "print (occC)\n",
    "ED = E_grid(occC)\n",
    "print (ED)\n",
    "\n",
    "# function to compute acceptance probability\n",
    "def prob(Eold,Enew,kT):\n",
    "  if Enew > Eold:\n",
    "    prob = np.exp(-(Enew-Eold)/kT)\n",
    "  else:\n",
    "    prob = 1.\n",
    "  return prob\n",
    "\n",
    "# compute probability for transition between microstates\n",
    "kT=0.025\n",
    "print (\"EB->EA\",EB,EA,prob(EB,EA,kT))   # These are the energies of transiton from one state to another (EB to EA)\n",
    "print (\"EA->EB\",EA,EB,prob(EA,EB,kT))\n",
    "print (\"EC->EA\",EC,EA,prob(EC,EA,kT))\n",
    "print (\"EA->EC\",EA,EC,prob(EA,EC,kT))"
   ]
  },
  {
   "cell_type": "code",
   "execution_count": 37,
   "metadata": {},
   "outputs": [
    {
     "name": "stdout",
     "output_type": "stream",
     "text": [
      "[[1. 0. 1. 0. 0. 0. 0. 0. 1. 0.]\n",
      " [1. 1. 1. 0. 0. 0. 1. 1. 1. 0.]\n",
      " [1. 1. 1. 0. 0. 0. 1. 0. 0. 0.]\n",
      " [1. 0. 0. 0. 0. 1. 0. 0. 0. 0.]\n",
      " [0. 0. 0. 0. 0. 0. 0. 0. 0. 1.]]\n",
      "0 1 -1.172035329653608\n",
      "[[0. 0. 0. 0. 0. 1. 1. 1. 1. 1.]\n",
      " [0. 0. 0. 1. 0. 0. 0. 1. 1. 0.]\n",
      " [0. 0. 0. 1. 1. 0. 0. 0. 1. 1.]\n",
      " [1. 1. 0. 0. 0. 0. 0. 0. 0. 0.]\n",
      " [0. 0. 1. 0. 0. 0. 0. 0. 0. 1.]]\n",
      "70 2 -1.17876225312968\n",
      "[[0. 1. 0. 0. 1. 1. 0. 0. 0. 0.]\n",
      " [0. 1. 1. 0. 0. 0. 0. 0. 0. 0.]\n",
      " [0. 1. 0. 0. 0. 0. 1. 1. 1. 0.]\n",
      " [0. 0. 0. 1. 1. 1. 1. 1. 0. 0.]\n",
      " [0. 0. 0. 0. 1. 0. 0. 1. 0. 0.]]\n",
      "89 3 -1.1874005719027723\n"
     ]
    },
    {
     "data": {
      "text/plain": [
       "488526937079580.0"
      ]
     },
     "execution_count": 37,
     "metadata": {},
     "output_type": "execute_result"
    }
   ],
   "source": [
    "\n",
    "\n",
    "# Monte Carlo simulation\n",
    "kT      = 0.001\n",
    "MCsteps = 100\n",
    "\n",
    "Naccept=0\n",
    "occ_old = np.zeros((gridx,gridy))\n",
    "occ_new = np.zeros((gridx,gridy))\n",
    "occ_old = randocc(gridx,gridy,16)\n",
    "E_old = E_grid(occ_old)\n",
    "for step in range(MCsteps):\n",
    "  occ_new = randocc(gridx,gridy,16)\n",
    "  E_new = E_grid(occ_new)\n",
    "  # Now we compare our probability with our statistical distribution.\n",
    "  if (prob(E_old,E_new,kT)) > rd.uniform(0,1):\n",
    "    # accept new state\n",
    "    E_old = E_new\n",
    "    occ_old = occ_new\n",
    "    Naccept +=1\n",
    "    print (occ_new)\n",
    "    print (step,Naccept,E_new)\n",
    "\n",
    "# (n over k) = n!/(n-k!*k!)\n",
    "from math import factorial\n",
    "factorial(64)/(factorial(16)*factorial(64-16))"
   ]
  }
 ],
 "metadata": {
  "interpreter": {
   "hash": "93d3515675172f13275ddc9f103925c3c6d3e81fc6931af8e4b559f63ddcf313"
  },
  "kernelspec": {
   "display_name": "Python 3.10.1 64-bit",
   "language": "python",
   "name": "python3"
  },
  "language_info": {
   "codemirror_mode": {
    "name": "ipython",
    "version": 3
   },
   "file_extension": ".py",
   "mimetype": "text/x-python",
   "name": "python",
   "nbconvert_exporter": "python",
   "pygments_lexer": "ipython3",
   "version": "3.10.1"
  },
  "orig_nbformat": 4
 },
 "nbformat": 4,
 "nbformat_minor": 2
}
